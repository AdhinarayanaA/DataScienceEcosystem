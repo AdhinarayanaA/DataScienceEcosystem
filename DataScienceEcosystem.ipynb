{
 "cells": [
  {
   "cell_type": "markdown",
   "id": "f49ee11b-50c6-4b0b-adf4-c2648d7c92f9",
   "metadata": {},
   "source": [
    "#  Data Science Tools and Ecosystem"
   ]
  },
  {
   "cell_type": "markdown",
   "id": "79337b88-0c39-42b6-b05e-67330905765c",
   "metadata": {},
   "source": [
    "In this notebook, Data Science Tools and Ecosystem are summarized."
   ]
  },
  {
   "cell_type": "markdown",
   "id": "4dbdadfc-2233-45ec-bb4f-c95fe38075d4",
   "metadata": {},
   "source": [
    "**Objectives:**\n",
    "- List some popular languages that Data Scientists use\n",
    "+ Some of the commonly used libraries by Data Scientists\n",
    "* Some of the tools used by Data Scientists\n",
    "+ How to convert hours in to minutes\n",
    "- Do a simple arithmetic expression "
   ]
  },
  {
   "cell_type": "markdown",
   "id": "018db340-0491-42e9-ad41-281a405b18cc",
   "metadata": {},
   "source": [
    "Here are some of the popular languages that Data Scientists use:\n",
    "1. Python\n",
    "2. R\n",
    "3. Julia \n",
    "4. Scala\n",
    "5. C++\n",
    "6.Java\n",
    "7. SQL"
   ]
  },
  {
   "cell_type": "markdown",
   "id": "3e393edf-8560-4de7-aad2-eccf72c27c4b",
   "metadata": {},
   "source": [
    "Some of the commonly used libraries by Data Scientists include:\n",
    "1. Pandas\n",
    "2. Numpys\n",
    "3. Matplot lib\n",
    "4. Seaborn\n",
    "5. Scikit Learn\n",
    "6. PyTorch"
   ]
  },
  {
   "cell_type": "markdown",
   "id": "548318a6-de3a-44d9-aa72-7bf379143981",
   "metadata": {},
   "source": [
    "| Data Science Tools |\n",
    "| --------------------- |\n",
    "| 1. My SQL |\n",
    "| 2. MangoDB |\n",
    "| 3. Hadoop HDPS |\n",
    "| 4. Apache Airflow |\n",
    "| 5. Apache Kafka | \n",
    "| 6. Pixie Dust |\n"
   ]
  },
  {
   "cell_type": "markdown",
   "id": "a36c9509-6719-4547-9a26-77a156444892",
   "metadata": {},
   "source": [
    "### Below are a few examples of evaluating arithmetic expressions in Python."
   ]
  },
  {
   "cell_type": "code",
   "execution_count": 4,
   "id": "f4f3dd0e-380f-4669-9280-545ad0c1e5ec",
   "metadata": {
    "tags": []
   },
   "outputs": [
    {
     "data": {
      "text/plain": [
       "17"
      ]
     },
     "execution_count": 4,
     "metadata": {},
     "output_type": "execute_result"
    }
   ],
   "source": [
    "# This a simple arithmetic expression to mutiply then add integers. \n",
    "(3*4)+5"
   ]
  },
  {
   "cell_type": "code",
   "execution_count": 5,
   "id": "a61b0d36-afd6-4fe1-8dce-ead57e4b761f",
   "metadata": {
    "tags": []
   },
   "outputs": [
    {
     "data": {
      "text/plain": [
       "3.3333333333333335"
      ]
     },
     "execution_count": 5,
     "metadata": {},
     "output_type": "execute_result"
    }
   ],
   "source": [
    "# This code is to convert 200 minutes to hours by diving by 60.\n",
    "200/60"
   ]
  },
  {
   "cell_type": "markdown",
   "id": "6a421961-db01-4432-b493-746529b3cf1a",
   "metadata": {},
   "source": [
    "## Author\n",
    "Adhinarayana A"
   ]
  },
  {
   "cell_type": "code",
   "execution_count": null,
   "id": "13233fe2-874e-4ff2-aeb4-867f251d13fb",
   "metadata": {},
   "outputs": [],
   "source": []
  }
 ],
 "metadata": {
  "kernelspec": {
   "display_name": "Python",
   "language": "python",
   "name": "conda-env-python-py"
  },
  "language_info": {
   "codemirror_mode": {
    "name": "ipython",
    "version": 3
   },
   "file_extension": ".py",
   "mimetype": "text/x-python",
   "name": "python",
   "nbconvert_exporter": "python",
   "pygments_lexer": "ipython3",
   "version": "3.7.12"
  }
 },
 "nbformat": 4,
 "nbformat_minor": 5
}
